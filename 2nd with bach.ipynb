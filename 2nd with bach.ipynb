{
 "cells": [
  {
   "cell_type": "markdown",
   "id": "0792d21c",
   "metadata": {},
   "source": [
    "# 1st model is best\n",
    "Just run it for better accuracy"
   ]
  },
  {
   "cell_type": "markdown",
   "id": "b23b4d69",
   "metadata": {},
   "source": [
    "### 2nd"
   ]
  },
  {
   "cell_type": "code",
   "execution_count": 1,
   "id": "9805760f",
   "metadata": {},
   "outputs": [],
   "source": [
    "import numpy as np\n",
    "import pandas as pd\n",
    "from sklearn.model_selection import train_test_split\n",
    "import tensorflow as tf\n",
    "import matplotlib.pyplot as plt\n",
    "import keras\n",
    "from keras.models import Sequential\n",
    "from tensorflow.keras.layers import BatchNormalization\n",
    "from keras.layers.convolutional import Conv2D, MaxPooling2D\n",
    "from keras.layers.core import Activation, Flatten, Dropout, Dense\n",
    "from keras import backend as K\n"
   ]
  },
  {
   "cell_type": "code",
   "execution_count": 2,
   "id": "bcbf6215",
   "metadata": {},
   "outputs": [
    {
     "name": "stdout",
     "output_type": "stream",
     "text": [
      "x_train shape: (60000, 28, 28) y_train shape: (60000,)\n"
     ]
    }
   ],
   "source": [
    "# Load the fashion-mnist pre-shuffled train data and test data\n",
    "(x_train, y_train), (x_test, y_test) = tf.keras.datasets.fashion_mnist.load_data()\n",
    "\n",
    "print(\"x_train shape:\", x_train.shape, \"y_train shape:\", y_train.shape)"
   ]
  },
  {
   "cell_type": "code",
   "execution_count": 3,
   "id": "c5156269",
   "metadata": {},
   "outputs": [
    {
     "name": "stdout",
     "output_type": "stream",
     "text": [
      "x_train shape (60000, 28, 28) y_train shape (60000,)\n",
      "60000 train_set\n",
      "60000 test_set\n",
      "y = 2 Pullover\n"
     ]
    },
    {
     "data": {
      "text/plain": [
       "<matplotlib.image.AxesImage at 0x17818a0db80>"
      ]
     },
     "execution_count": 3,
     "metadata": {},
     "output_type": "execute_result"
    },
    {
     "data": {
      "image/png": "[encoded data removed]",
      "text/plain": [
       "<Figure size 432x288 with 1 Axes>"
      ]
     },
     "metadata": {
      "needs_background": "light"
     },
     "output_type": "display_data"
    }
   ],
   "source": [
    "print(\"x_train shape\",x_train.shape,\"y_train shape\",y_train.shape)\n",
    "print(x_train.shape[0],'train_set')\n",
    "print(y_train.shape[0],'test_set')\n",
    "#define text labels\n",
    "# Define the text labels\n",
    "fashion_mnist_labels = [\"T-shirt/top\",  # index 0\n",
    "                        \"Trouser\",      # index 1\n",
    "                        \"Pullover\",     # index 2 \n",
    "                        \"Dress\",        # index 3 \n",
    "                        \"Coat\",         # index 4\n",
    "                        \"Sandal\",       # index 5\n",
    "                        \"Shirt\",        # index 6 \n",
    "                        \"Sneaker\",      # index 7 \n",
    "                        \"Bag\",          # index 8 \n",
    "                        \"Ankle boot\"]   # index 9\n",
    "# Image index, you can pick any number between 0 and 59,999\n",
    "img_index = 5\n",
    "# y_train contains the lables, ranging from 0 to 9\n",
    "label_index = y_train[img_index]\n",
    "# Print the label, for example 2 Pullover\n",
    "print (\"y = \" + str(label_index) + \" \" +(fashion_mnist_labels[label_index]))\n",
    "# # Show one of the images from the training dataset\n",
    "plt.imshow(x_train[img_index])"
   ]
  },
  {
   "cell_type": "code",
   "execution_count": 4,
   "id": "bdfe477d",
   "metadata": {},
   "outputs": [],
   "source": [
    "x_train = x_train.astype('float32') / 255\n",
    "x_test = x_test.astype('float32') / 255"
   ]
  },
  {
   "cell_type": "code",
   "execution_count": 5,
   "id": "f5beedb7",
   "metadata": {},
   "outputs": [
    {
     "name": "stdout",
     "output_type": "stream",
     "text": [
      "Number of train data - 60000\n",
      "number of test data - 10000\n"
     ]
    }
   ],
   "source": [
    "print(\"Number of train data - \"+ str(len(x_train)))\n",
    "print(\"number of test data - \"+ str(len(x_test)))"
   ]
  },
  {
   "cell_type": "code",
   "execution_count": 6,
   "id": "c9be7374",
   "metadata": {},
   "outputs": [],
   "source": [
    "(x_train,x_valid) = x_train[5000:],x_train[:5000]\n",
    "(y_train,y_valid) = y_train[5000:],y_train[:5000]"
   ]
  },
  {
   "cell_type": "code",
   "execution_count": 7,
   "id": "08bc8504",
   "metadata": {},
   "outputs": [],
   "source": [
    "w, h = 28, 28\n",
    "x_train = x_train.reshape(x_train.shape[0],w,h,1)\n",
    "x_valid = x_valid.reshape(x_valid.shape[0],w,h,1)\n",
    "x_test = x_test.reshape(x_test.shape[0],w,h,1)"
   ]
  },
  {
   "cell_type": "code",
   "execution_count": 8,
   "id": "f7bdf88e",
   "metadata": {},
   "outputs": [],
   "source": [
    "y_train = tf.keras.utils.to_categorical(y_train,10)\n",
    "y_valid = tf.keras.utils.to_categorical(y_valid,10)\n",
    "y_test = tf.keras.utils.to_categorical(y_test,10)"
   ]
  },
  {
   "cell_type": "code",
   "execution_count": 9,
   "id": "d799ad0f",
   "metadata": {},
   "outputs": [
    {
     "name": "stdout",
     "output_type": "stream",
     "text": [
      "x_train shape: (55000, 28, 28, 1) y_train shape: (55000, 10)\n",
      "55000 train set\n",
      "5000 validation set\n",
      "10000 test set\n"
     ]
    }
   ],
   "source": [
    "# Print training set shape\n",
    "print(\"x_train shape:\", x_train.shape, \"y_train shape:\", y_train.shape)\n",
    "\n",
    "# Print the number of training, validation, and test datasets\n",
    "print(x_train.shape[0], 'train set')\n",
    "print(x_valid.shape[0], 'validation set')\n",
    "print(x_test.shape[0], 'test set')"
   ]
  },
  {
   "cell_type": "code",
   "execution_count": 10,
   "id": "a555ab43",
   "metadata": {},
   "outputs": [],
   "source": [
    "from tensorflow.keras.layers import Activation\n",
    "from keras.layers import Dense, Dropout \n"
   ]
  },
  {
   "cell_type": "code",
   "execution_count": 16,
   "id": "73c9c8b4",
   "metadata": {},
   "outputs": [],
   "source": [
    "#size of parameters\n",
    "batch_size = 128\n",
    "num_classes = 10\n",
    "epochs = 10\n",
    "filter_pixel=3\n",
    "noise = 1\n",
    "droprate=0.25\n",
    "#Start Neural Network\n",
    "model = Sequential()\n",
    "#convolution 1st layer\n",
    "model.add(Conv2D(64, kernel_size=(filter_pixel, filter_pixel), padding=\"same\",\n",
    "                 activation='relu',\n",
    "                 input_shape=(28,28,1))) #0\n",
    "model.add(BatchNormalization())\n",
    "model.add(Dropout(droprate))#3\n",
    "#model.add(MaxPooling2D())\n",
    "\n",
    "#convolution 2nd layer\n",
    "model.add(Conv2D(64, kernel_size=(filter_pixel, filter_pixel), activation='relu'))#1\n",
    "model.add(BatchNormalization())\n",
    "model.add(MaxPooling2D())\n",
    "model.add(Dropout(droprate))#3\n",
    "\n",
    "#convolution 3rd layer\n",
    "model.add(Conv2D(64, kernel_size=(filter_pixel, filter_pixel), activation='relu'))#1\n",
    "model.add(BatchNormalization())\n",
    "model.add(MaxPooling2D())\n",
    "model.add(Dropout(droprate))#3\n",
    "\n",
    "#Fully connected 1st layer\n",
    "model.add(Flatten()) #7\n",
    "model.add(Dense(500,use_bias=False)) #13\n",
    "model.add(BatchNormalization())\n",
    "model.add(Activation('relu')) #14\n",
    "model.add(Dropout(droprate))      #15\n",
    "\n",
    "#Fully connected final layer\n",
    "model.add(Dense(10)) #8\n",
    "#model.add(Activation('softmax')) #9\n",
    "\n",
    "\n",
    "model.compile(loss=keras.losses.categorical_crossentropy,\n",
    "              optimizer=tf.keras.optimizers.RMSprop(),\n",
    "              metrics=['accuracy'])"
   ]
  },
  {
   "cell_type": "code",
   "execution_count": 17,
   "id": "d8caebb0",
   "metadata": {},
   "outputs": [
    {
     "name": "stdout",
     "output_type": "stream",
     "text": [
      "Model: \"sequential_3\"\n",
      "_________________________________________________________________\n",
      " Layer (type)                Output Shape              Param #   \n",
      "=================================================================\n",
      " conv2d_6 (Conv2D)           (None, 28, 28, 64)        640       \n",
      "                                                                 \n",
      " batch_normalization_8 (Batc  (None, 28, 28, 64)       256       \n",
      " hNormalization)                                                 \n",
      "                                                                 \n",
      " dropout_8 (Dropout)         (None, 28, 28, 64)        0         \n",
      "                                                                 \n",
      " conv2d_7 (Conv2D)           (None, 26, 26, 64)        36928     \n",
      "                                                                 \n",
      " batch_normalization_9 (Batc  (None, 26, 26, 64)       256       \n",
      " hNormalization)                                                 \n",
      "                                                                 \n",
      " max_pooling2d_4 (MaxPooling  (None, 13, 13, 64)       0         \n",
      " 2D)                                                             \n",
      "                                                                 \n",
      " dropout_9 (Dropout)         (None, 13, 13, 64)        0         \n",
      "                                                                 \n",
      " conv2d_8 (Conv2D)           (None, 11, 11, 64)        36928     \n",
      "                                                                 \n",
      " batch_normalization_10 (Bat  (None, 11, 11, 64)       256       \n",
      " chNormalization)                                                \n",
      "                                                                 \n",
      " max_pooling2d_5 (MaxPooling  (None, 5, 5, 64)         0         \n",
      " 2D)                                                             \n",
      "                                                                 \n",
      " dropout_10 (Dropout)        (None, 5, 5, 64)          0         \n",
      "                                                                 \n",
      " flatten_2 (Flatten)         (None, 1600)              0         \n",
      "                                                                 \n",
      " dense_3 (Dense)             (None, 500)               800000    \n",
      "                                                                 \n",
      " batch_normalization_11 (Bat  (None, 500)              2000      \n",
      " chNormalization)                                                \n",
      "                                                                 \n",
      " activation_3 (Activation)   (None, 500)               0         \n",
      "                                                                 \n",
      " dropout_11 (Dropout)        (None, 500)               0         \n",
      "                                                                 \n",
      " dense_4 (Dense)             (None, 10)                5010      \n",
      "                                                                 \n",
      "=================================================================\n",
      "Total params: 882,274\n",
      "Trainable params: 880,890\n",
      "Non-trainable params: 1,384\n",
      "_________________________________________________________________\n"
     ]
    }
   ],
   "source": [
    "model.summary()"
   ]
  },
  {
   "cell_type": "code",
   "execution_count": 20,
   "id": "003419cf",
   "metadata": {},
   "outputs": [
    {
     "name": "stdout",
     "output_type": "stream",
     "text": [
      "430/430 [==============================] - 390s 907ms/step - loss: 8.9723 - accuracy: 0.1677 - val_loss: 5.9326 - val_accuracy: 0.1980\n"
     ]
    }
   ],
   "source": [
    "history = model.fit(x_train, y_train,\n",
    "          batch_size=128,\n",
    "          epochs=1,\n",
    "          verbose=1,\n",
    "          validation_data=(x_valid, y_valid))"
   ]
  },
  {
   "cell_type": "code",
   "execution_count": 23,
   "id": "fd785680",
   "metadata": {},
   "outputs": [
    {
     "name": "stdout",
     "output_type": "stream",
     "text": [
      "Evaluating network...\n",
      "              precision    recall  f1-score   support\n",
      "\n",
      " T-shirt/top       0.04      0.10      0.06      1000\n",
      "     Trouser       0.00      0.00      0.00      1000\n",
      "    Pullover       0.27      0.06      0.09      1000\n",
      "       Dress       0.00      0.00      0.00      1000\n",
      "        Coat       0.00      0.00      0.00      1000\n",
      "      Sandal       0.32      0.96      0.48      1000\n",
      "       Shirt       0.19      0.78      0.30      1000\n",
      "     Sneaker       0.72      0.09      0.17      1000\n",
      "         Bag       0.00      0.00      0.00      1000\n",
      "  Ankle boot       0.00      0.00      0.00      1000\n",
      "\n",
      "    accuracy                           0.20     10000\n",
      "   macro avg       0.15      0.20      0.11     10000\n",
      "weighted avg       0.15      0.20      0.11     10000\n",
      "\n"
     ]
    },
    {
     "name": "stderr",
     "output_type": "stream",
     "text": [
      "C:\\Users\\haider computer s\\anaconda3\\lib\\site-packages\\sklearn\\metrics\\_classification.py:1245: UndefinedMetricWarning: Precision and F-score are ill-defined and being set to 0.0 in labels with no predicted samples. Use `zero_division` parameter to control this behavior.\n",
      "  _warn_prf(average, modifier, msg_start, len(result))\n",
      "C:\\Users\\haider computer s\\anaconda3\\lib\\site-packages\\sklearn\\metrics\\_classification.py:1245: UndefinedMetricWarning: Precision and F-score are ill-defined and being set to 0.0 in labels with no predicted samples. Use `zero_division` parameter to control this behavior.\n",
      "  _warn_prf(average, modifier, msg_start, len(result))\n",
      "C:\\Users\\haider computer s\\anaconda3\\lib\\site-packages\\sklearn\\metrics\\_classification.py:1245: UndefinedMetricWarning: Precision and F-score are ill-defined and being set to 0.0 in labels with no predicted samples. Use `zero_division` parameter to control this behavior.\n",
      "  _warn_prf(average, modifier, msg_start, len(result))\n"
     ]
    }
   ],
   "source": [
    "# make predictions\n",
    "from sklearn.metrics import classification_report\n",
    "preds = model.predict(x_test)\n",
    "\n",
    "# show the nicely formatted classification report\n",
    "print(\"Evaluating network...\")\n",
    "print(classification_report(y_test.argmax(axis=1), preds.argmax(axis=1),\n",
    "     target_names=fashion_mnist_labels))\n"
   ]
  },
  {
   "cell_type": "code",
   "execution_count": 24,
   "id": "e39650f0",
   "metadata": {},
   "outputs": [
    {
     "name": "stdout",
     "output_type": "stream",
     "text": [
      "1719/1719 [==============================] - 86s 50ms/step - loss: 5.9258 - accuracy: 0.1996\n",
      "Train Score: 592.58%\n",
      "Train Accuracy: 19.96%\n",
      "313/313 [==============================] - 17s 53ms/step - loss: 5.9831 - accuracy: 0.1993\n",
      "Test Score: 598.31%\n",
      "Test Accuracy: 19.93%\n"
     ]
    }
   ],
   "source": [
    "### Save model\n",
    "###==========================================\n",
    "from keras.models import load_model \n",
    "model.save('fashion_mnist_cnn_model.h5') # creates a HDF5 file 'my_model.h5' \n",
    "\n",
    "# Final evaluation of the model\n",
    "scores = model.evaluate(x_train, y_train, verbose=1)\n",
    "print(\"Train Score: %.2f%%\" % (scores[0]*100))\n",
    "print(\"Train Accuracy: %.2f%%\" % (scores[1]*100))\n",
    "\n",
    "############## Final evaluation of the model For Test Set\n",
    "score = model.evaluate(x_test, y_test, verbose=1)\n",
    "print(\"Test Score: %.2f%%\" % (score[0]*100))\n",
    "print(\"Test Accuracy: %.2f%%\" % (score[1]*100))\n"
   ]
  },
  {
   "cell_type": "code",
   "execution_count": 25,
   "id": "79c49da9",
   "metadata": {},
   "outputs": [
    {
     "name": "stdout",
     "output_type": "stream",
     "text": [
      "dict_keys(['loss', 'accuracy', 'val_loss', 'val_accuracy'])\n"
     ]
    }
   ],
   "source": [
    "print(history.history.keys())"
   ]
  },
  {
   "cell_type": "code",
   "execution_count": 32,
   "id": "6cff0d7c",
   "metadata": {},
   "outputs": [
    {
     "data": {
      "image/png": "[encoded data removed]",
      "text/plain": [
       "<Figure size 432x288 with 1 Axes>"
      ]
     },
     "metadata": {},
     "output_type": "display_data"
    }
   ],
   "source": [
    "#plot the training loss and accuray\n",
    "NUM_EPOCHS = 1\n",
    "plt.style.use(\"ggplot\")\n",
    "plt.figure()\n",
    "plt.plot(np.arange(0, NUM_EPOCHS), history.history['loss'], label='train_loss')\n",
    "plt.plot(np.arange(0, NUM_EPOCHS), history.history['val_loss'], label='val_loss')\n",
    "plt.plot(np.arange(0, NUM_EPOCHS), history.history['accuracy'], label='train_acc')\n",
    "plt.plot(np.arange(0, NUM_EPOCHS), history.history['val_accuracy'], label='val_acc')\n",
    "plt.title(\"Training Loss and Accuracy on Dataset\")\n",
    "plt.xlabel(\"Epoch #\")\n",
    "plt.ylabel(\"Loss/Accuracy\")\n",
    "# plt.legend(loc=\"lower left\")\n",
    "# # plt.savefig(\"plot_perf.png\")\n",
    "plt.legend(loc = 'upper left')\n",
    "plt.tight_layout()\n",
    "plt.savefig(\"plot_loss_acc.png\", dpi = 50)\n",
    "plt.show()"
   ]
  }
 ],
 "metadata": {
  "kernelspec": {
   "display_name": "Python 3 (ipykernel)",
   "language": "python",
   "name": "python3"
  },
  "language_info": {
   "codemirror_mode": {
    "name": "ipython",
    "version": 3
   },
   "file_extension": ".py",
   "mimetype": "text/x-python",
   "name": "python",
   "nbconvert_exporter": "python",
   "pygments_lexer": "ipython3",
   "version": "3.9.13"
  }
 },
 "nbformat": 4,
 "nbformat_minor": 5
}
